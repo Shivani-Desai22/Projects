{
 "cells": [
  {
   "cell_type": "markdown",
   "id": "9de0e4d6",
   "metadata": {},
   "source": [
    "# Mean\n",
    "The mean is the average value of all the values in a dataset. \n",
    "To calculate the mean value of a dataset, we first need to find the sum of all the values and then divide the sum of all the values by the total number of values.\n",
    "Example:"
   ]
  },
  {
   "cell_type": "code",
   "execution_count": null,
   "id": "79b586fd",
   "metadata": {},
   "outputs": [],
   "source": [
    "list1 = [10, 1, 30, 10, 18, 13, 77, 38, 9, 18, 10]\n",
    "mean = sum(list1)/len(list1)\n",
    "print(mean)"
   ]
  },
  {
   "cell_type": "markdown",
   "id": "80fc0716",
   "metadata": {},
   "source": [
    "# Median\n",
    "\n",
    "The Median is the middle value among all the values in sorted order. \n",
    "There are two different ways of calculating the median value:\n",
    "\n",
    "when the total number of values is even: Median  = [(n/2)th term + {(n/2)+1}th]/2\n",
    "when the total number of values is odd: Median = {(n+1)/2}thterm\n",
    "\n",
    "Example using the same data set as above:\n"
   ]
  },
  {
   "cell_type": "code",
   "execution_count": null,
   "id": "c1b4f5c3",
   "metadata": {},
   "outputs": [],
   "source": [
    "list1 = [10, 1, 30, 10, 18, 13, 77, 38, 9, 18, 10]\n",
    "\n",
    "list1.sort()\n",
    "list1\n"
   ]
  },
  {
   "cell_type": "code",
   "execution_count": null,
   "id": "c71aada3",
   "metadata": {},
   "outputs": [],
   "source": [
    "if len(list1) % 2 == 0:\n",
    "    m1 = list1[len(list1)//2]\n",
    "    m2 = list1[len(list1)//2 + 1]\n",
    "    median = (m1 + m2)/2\n",
    "else:\n",
    "    median = list1[len(list1)//2]\n",
    "print(median)"
   ]
  },
  {
   "cell_type": "markdown",
   "id": "70c6a003",
   "metadata": {},
   "source": [
    "# Mode\n",
    "Mode is the most frequently occurring value among all the values\n",
    "Example using the same data set as above:\n"
   ]
  },
  {
   "cell_type": "code",
   "execution_count": null,
   "id": "3e333a15",
   "metadata": {},
   "outputs": [],
   "source": [
    "list1 = [10, 1, 30, 10, 18, 13, 77, 38, 9, 18, 10]\n",
    "frequency = {}\n",
    "for i in list1:\n",
    "    frequency.setdefault(i, 0)\n",
    "    frequency[i]+=1\n",
    "\n",
    "frequent = max(frequency.values())\n",
    "for i, j in frequency.items():\n",
    "    if j == frequent:\n",
    "        mode = i\n",
    "print(mode)"
   ]
  },
  {
   "cell_type": "markdown",
   "id": "b2ffdb81",
   "metadata": {},
   "source": [
    "### Note: This can be done using the statics module as below:\n"
   ]
  },
  {
   "cell_type": "code",
   "execution_count": null,
   "id": "9378a185",
   "metadata": {},
   "outputs": [],
   "source": [
    "import statistics\n",
    "print(statistics.mean(list1))"
   ]
  },
  {
   "cell_type": "code",
   "execution_count": null,
   "id": "a6829875",
   "metadata": {},
   "outputs": [],
   "source": [
    "print(statistics.median(list1))"
   ]
  },
  {
   "cell_type": "code",
   "execution_count": null,
   "id": "358ff02e",
   "metadata": {},
   "outputs": [],
   "source": [
    "print(statistics.mode(list1))"
   ]
  }
 ],
 "metadata": {
  "kernelspec": {
   "display_name": "Python 3 (ipykernel)",
   "language": "python",
   "name": "python3"
  },
  "language_info": {
   "codemirror_mode": {
    "name": "ipython",
    "version": 3
   },
   "file_extension": ".py",
   "mimetype": "text/x-python",
   "name": "python",
   "nbconvert_exporter": "python",
   "pygments_lexer": "ipython3",
   "version": "3.9.12"
  }
 },
 "nbformat": 4,
 "nbformat_minor": 5
}
