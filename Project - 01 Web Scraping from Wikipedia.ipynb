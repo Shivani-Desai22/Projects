{
 "cells": [
  {
   "cell_type": "code",
   "execution_count": 19,
   "id": "0b6e7e4b",
   "metadata": {},
   "outputs": [
    {
     "name": "stdout",
     "output_type": "stream",
     "text": [
      "  Rank              Currency ISO 4217 code Symbol  \\\n",
      "0    1  United States dollar           USD    US$   \n",
      "1    2                  Euro           EUR      €   \n",
      "2    3          Japanese yen           JPY  円 / ¥   \n",
      "3    4              Sterling           GBP      £   \n",
      "4    5     Australian dollar           AUD     A$   \n",
      "\n",
      "  Proportion of daily volume, April 2019  \n",
      "0                                  88.3%  \n",
      "1                                  32.3%  \n",
      "2                                  16.8%  \n",
      "3                                  12.8%  \n",
      "4                                   6.8%  \n"
     ]
    }
   ],
   "source": [
    "import urllib.request\n",
    "import pandas as pd\n",
    "url = \"https://en.wikipedia.org/wiki/Currency\"\n",
    "\n",
    "with urllib.request.urlopen(url) as i:\n",
    "    html = i.read()\n",
    "    \n",
    "data = pd.read_html(html)[3]\n",
    "print(data.head())"
   ]
  },
  {
   "cell_type": "code",
   "execution_count": null,
   "id": "ff544722",
   "metadata": {},
   "outputs": [],
   "source": [
    "# data=pd.read_html(html)[3] - in this code the last digit [3] is for the table number on the web page. \n",
    "#If a web page has multiple tables, this number determines which table to read and scrape. \n",
    "#start with zero and try untill you get your desire table."
   ]
  },
  {
   "cell_type": "code",
   "execution_count": 20,
   "id": "a4b06c4b",
   "metadata": {},
   "outputs": [],
   "source": [
    "data.to_csv(\"Currency.csv\")"
   ]
  },
  {
   "cell_type": "code",
   "execution_count": null,
   "id": "c5196f45",
   "metadata": {},
   "outputs": [],
   "source": []
  }
 ],
 "metadata": {
  "kernelspec": {
   "display_name": "Python 3 (ipykernel)",
   "language": "python",
   "name": "python3"
  },
  "language_info": {
   "codemirror_mode": {
    "name": "ipython",
    "version": 3
   },
   "file_extension": ".py",
   "mimetype": "text/x-python",
   "name": "python",
   "nbconvert_exporter": "python",
   "pygments_lexer": "ipython3",
   "version": "3.9.12"
  }
 },
 "nbformat": 4,
 "nbformat_minor": 5
}
