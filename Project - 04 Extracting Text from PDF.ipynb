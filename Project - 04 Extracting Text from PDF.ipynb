{
 "cells": [
  {
   "cell_type": "markdown",
   "id": "686b18c2",
   "metadata": {},
   "source": [
    "I First installed PyPDF2 Python Library using Anaconda Command Prompt > pip install pypdf2\n",
    "\n",
    "Use the below Python Code to extract text from my Cover Letter!\n"
   ]
  },
  {
   "cell_type": "code",
   "execution_count": 1,
   "id": "de69ff04",
   "metadata": {},
   "outputs": [
    {
     "name": "stdout",
     "output_type": "stream",
     "text": [
      "   SHIVANI DESAI  \n",
      " Ema il: shivani d.1981@gmail.com  \n",
      "M: 04 30 674 398  \n",
      " \n",
      " \n",
      "   \n",
      " September  25, 2022 . \n",
      "Dear Sir/Madam,  \n",
      " \n",
      "Re: Data  Analyst  Graduate  \n",
      "I am excited to apply  for the Data Analyst  Graduate position with Allia nz. As someone being a lifelong learner, I  decided to \n",
      "retrain myself in Data Anal ytics throu gh Monash Universi ty to utilize my qu alific ation in IT  Engineering  and m y well-\n",
      "developed  business skills  working i n Construction and Retail  in Aust ralia. I have advanced skills in Excel  and intermediate skills \n",
      "in Python and SQL.  I thrive on delivering data -driven inputs  for business d ecisions through my attention to detail and focused \n",
      "approach . I am cur rently  taking  train ing to get Microsoft Power BI certification . \n",
      "I have  recen tly completed my study  in Data Analytics  with Py thon through Monash University . I enjoyed working  with \n",
      "complex  datasets during my study assignments and brushing up on my cod ing knowledge . I expande d my l earning on the \n",
      "collecti on of tools for analysin g and visualizing  data . I scored 100% in all assignment portfolios. I am very excited  to keep \n",
      "learning.  Now I am loo king for an oppor tunity to utilize my technic al skills  and business acumen . \n",
      " \n",
      "My well-rounde d experience working in diverse indus tries has allowed me to develop my  analy tical, communica tion, and \n",
      "problem -solving  skills . Some key points to provide the highlig ht of my worki ng career in Aust ralia:  \n",
      " \n",
      "• In my most recent role, I worked as an E stim ator , preparing  cost estimates for $5-$20M mecha nical HVAC  projects. I \n",
      "have wel l demo nstrated my anal ytical skills in interpreting  and analyzing  job re quirements along with  my presentation \n",
      "skills in prese nting my tender finding s in a concise report to senior manag ement. I have implemented  processes that  \n",
      "resul ted in co st reduction and  time -saving  in inter -departmental  operations.  \n",
      "• I have over five years o f experience in the cus tomer service ind ustry working at Woolworths C altex P etrol as an \n",
      "Assistant Stor e Ma nager. I have developed a flair f or proactively lookin g after m y customers and a keen  eye for \n",
      "efficie nt cash transactions, store budgets , and analyzing  sales reports for team  excellence.  \n",
      "• I was also a part of the Geelong r egion OH&S team working with Woo lwor ths Cal tex Petrol due to my since rity for \n",
      "safety  in th e wo rk en vironment  \n",
      " \n",
      "With more t han a decade of experience in fast -paced business environments, I  understand the importa nce of clear \n",
      "com munication and collaboration. I was always regarded as a “GO -TO” person for any  solution ; my  team al ways  praised me  \n",
      "for m y po sitive attitude and solid  commitment to b uilding successful team relationships. I believe t hese qualities, combin ed \n",
      "with my deep kn owledge of data analytics , will he lp me to become an asset to  your organisation . \n",
      "I look forward to  discussing how my qualif ications and experien ce wil l allow me to se rve your organi sation . I am firmly  \n",
      "committed to continually refining my skills  and excelli ng further . \n",
      "Yours sincerely,  \n",
      "Shivani Desai.  \n"
     ]
    }
   ],
   "source": [
    "import PyPDF2\n",
    "pdf = open(\"Shivani Desai Cover Letter.pdf\", \"rb\")\n",
    "reader = PyPDF2.PdfFileReader(pdf)\n",
    "page = reader.getPage(0)\n",
    "print(page.extractText())"
   ]
  },
  {
   "cell_type": "code",
   "execution_count": null,
   "id": "c402b757",
   "metadata": {},
   "outputs": [],
   "source": []
  }
 ],
 "metadata": {
  "kernelspec": {
   "display_name": "Python 3 (ipykernel)",
   "language": "python",
   "name": "python3"
  },
  "language_info": {
   "codemirror_mode": {
    "name": "ipython",
    "version": 3
   },
   "file_extension": ".py",
   "mimetype": "text/x-python",
   "name": "python",
   "nbconvert_exporter": "python",
   "pygments_lexer": "ipython3",
   "version": "3.9.12"
  }
 },
 "nbformat": 4,
 "nbformat_minor": 5
}
